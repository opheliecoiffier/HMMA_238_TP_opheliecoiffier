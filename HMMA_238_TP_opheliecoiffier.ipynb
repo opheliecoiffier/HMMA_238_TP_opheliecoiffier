{
 "cells": [
  {
   "cell_type": "markdown",
   "metadata": {},
   "source": [
    "# $\\color{purple}{\\text{TP NOTE : Jeu de la vie}}$"
   ]
  },
  {
   "cell_type": "code",
   "execution_count": 2,
   "metadata": {},
   "outputs": [],
   "source": [
    "import matplotlib.animation as animation\n",
    "import numpy as np\n",
    "import matplotlib.pyplot as plt\n",
    "import random"
   ]
  },
  {
   "cell_type": "markdown",
   "metadata": {},
   "source": [
    "**Question 1** : Nous allons tout d'abord créer une chaine de caractère."
   ]
  },
  {
   "cell_type": "code",
   "execution_count": 3,
   "metadata": {},
   "outputs": [],
   "source": [
    "filename = \"HMMA238_TP_opheliecoiffier.ipynb\""
   ]
  },
  {
   "cell_type": "markdown",
   "metadata": {},
   "source": [
    "**Question 2** : Comptons le nombre de caractères dans filename."
   ]
  },
  {
   "cell_type": "code",
   "execution_count": 4,
   "metadata": {},
   "outputs": [
    {
     "name": "stdout",
     "output_type": "stream",
     "text": [
      "32\n"
     ]
    }
   ],
   "source": [
    "for i in range(len(filename)):\n",
    "    i = i+1\n",
    "taille_str = i\n",
    "print(taille_str)"
   ]
  },
  {
   "cell_type": "markdown",
   "metadata": {},
   "source": [
    "**Question 3** : Création de la variable ma_graine qui correspond au reste de la division euclidienne de taille_str par 6."
   ]
  },
  {
   "cell_type": "code",
   "execution_count": 5,
   "metadata": {},
   "outputs": [
    {
     "name": "stdout",
     "output_type": "stream",
     "text": [
      "2\n"
     ]
    }
   ],
   "source": [
    "ma_graine = taille_str%6\n",
    "print(ma_graine)"
   ]
  },
  {
   "cell_type": "markdown",
   "metadata": {},
   "source": [
    "**Question 4** : Appliquons la fonction ci-dessous à une liste z donnée."
   ]
  },
  {
   "cell_type": "code",
   "execution_count": 6,
   "metadata": {},
   "outputs": [
    {
     "name": "stdout",
     "output_type": "stream",
     "text": [
      "[[0, 0, 0, 0, 0, 0], [0, 1, 3, 1, 2, 0], [0, 1, 5, 3, 3, 0], [0, 2, 3, 2, 2, 0], [0, 1, 2, 2, 1, 0], [0, 0, 0, 0, 0, 0]]\n"
     ]
    }
   ],
   "source": [
    "#voici la fonction\n",
    "def calcul_nb_voisins(z):\n",
    "    forme = len(z), len(z[0])\n",
    "    N = [[0,]*(forme[0]) for i in range(forme[1])]\n",
    "    for x in range (1,forme[1]-1):\n",
    "        for y in range(1, forme[1]-1):\n",
    "            N[x][y]=z[x-1][y-1]+z[x][y-1]+z[x+1][y-1]+z[x-1][y]+0+z[x+1][y]+z[x-1][y+1]+z[x][y+1]+z[x+1][y+1]\n",
    "    return(N)\n",
    "\n",
    "#voici la liste\n",
    "z = [[0,0,0,0,0,0],[0,0,0,1,0,0],[0,1,0,1,0,0],[0,0,1,1,0,0],[0,0,0,0,0,0],[0,0,0,0,0,0]]\n",
    "#appliquons-la a la fonction\n",
    "print(calcul_nb_voisins(z))"
   ]
  },
  {
   "cell_type": "markdown",
   "metadata": {},
   "source": [
    "En sortie, nous obtenons une liste de liste comportant le nombre de voisin pour chaque case du jeu.\n",
    "\n",
    "Maintenant, étudions le fonction ci-dessous."
   ]
  },
  {
   "cell_type": "code",
   "execution_count": 7,
   "metadata": {},
   "outputs": [
    {
     "name": "stdout",
     "output_type": "stream",
     "text": [
      "[[0, 0, 0, 0, 0, 0], [0, 0, 1, 0, 0, 0], [0, 0, 0, 1, 1, 0], [0, 0, 1, 1, 0, 0], [0, 0, 0, 0, 0, 0], [0, 0, 0, 0, 0, 0]]\n"
     ]
    }
   ],
   "source": [
    "def iteration_jeu(z):\n",
    "    \"\"\"\"\n",
    "        Cette fonction met la case du jeu en 0 ou 1.\n",
    "        Autrement dit, elle indique si la case est vivante ou morte d'après les conditions du jeu données dans l'énoncé :\n",
    "        Naissance (elif dans la fonction), Equilibre (automatiquement appliquée), Etouffement et Isolement (if dans la fonction)\n",
    "        La règle d'Equilibre est automatique. La nature de la case ne change pas quoi qu'il arrive.\n",
    "        Elle prend en entrée une liste et elle retourne une liste.\n",
    "    \"\"\"\n",
    "    forme = len(z),len(z[0])\n",
    "    N = calcul_nb_voisins(z)\n",
    "    for x in range(1,forme[0]-1):\n",
    "        for y in range(1,forme[1]-1):\n",
    "            if z[x][y] == 1 and (N[x][y] < 2 or N[x][y] > 3) : \n",
    "                z[x][y] = 0\n",
    "            elif z[x][y] ==0 and N[x][y] == 3: \n",
    "                z[x][y] = 1\n",
    "    return(z)\n",
    "\n",
    "z = [[0,0,0,0,0,0],[0,0,0,1,0,0],[0,1,0,1,0,0],[0,0,1,1,0,0],[0,0,0,0,0,0],[0,0,0,0,0,0]]\n",
    "print(iteration_jeu(z))"
   ]
  },
  {
   "cell_type": "markdown",
   "metadata": {},
   "source": [
    "**Question 5** : Dans la question précédente, nous n'avons appliquer les consignes du jeu une seule fois. Essayons de le faire tourner sur 10 itérations (de 0 à 9)."
   ]
  },
  {
   "cell_type": "code",
   "execution_count": 8,
   "metadata": {},
   "outputs": [
    {
     "name": "stdout",
     "output_type": "stream",
     "text": [
      "[[0 0 0 0 0 0]\n",
      " [0 0 0 1 0 0]\n",
      " [0 1 0 1 0 0]\n",
      " [0 0 1 1 0 0]\n",
      " [0 0 0 0 0 0]\n",
      " [0 0 0 0 0 0]]\n",
      "[[0 0 0 0 0 0]\n",
      " [0 0 1 0 0 0]\n",
      " [0 0 0 1 1 0]\n",
      " [0 0 1 1 0 0]\n",
      " [0 0 0 0 0 0]\n",
      " [0 0 0 0 0 0]]\n",
      "[[0 0 0 0 0 0]\n",
      " [0 0 0 1 0 0]\n",
      " [0 0 0 0 1 0]\n",
      " [0 0 1 1 1 0]\n",
      " [0 0 0 0 0 0]\n",
      " [0 0 0 0 0 0]]\n",
      "[[0 0 0 0 0 0]\n",
      " [0 0 0 0 0 0]\n",
      " [0 0 1 0 1 0]\n",
      " [0 0 0 1 1 0]\n",
      " [0 0 0 1 0 0]\n",
      " [0 0 0 0 0 0]]\n",
      "[[0 0 0 0 0 0]\n",
      " [0 0 0 0 0 0]\n",
      " [0 0 0 0 1 0]\n",
      " [0 0 1 0 1 0]\n",
      " [0 0 0 1 1 0]\n",
      " [0 0 0 0 0 0]]\n",
      "[[0 0 0 0 0 0]\n",
      " [0 0 0 0 0 0]\n",
      " [0 0 0 1 0 0]\n",
      " [0 0 0 0 1 0]\n",
      " [0 0 0 1 1 0]\n",
      " [0 0 0 0 0 0]]\n",
      "[[0 0 0 0 0 0]\n",
      " [0 0 0 0 0 0]\n",
      " [0 0 0 0 0 0]\n",
      " [0 0 0 0 1 0]\n",
      " [0 0 0 1 1 0]\n",
      " [0 0 0 0 0 0]]\n",
      "[[0 0 0 0 0 0]\n",
      " [0 0 0 0 0 0]\n",
      " [0 0 0 0 0 0]\n",
      " [0 0 0 1 1 0]\n",
      " [0 0 0 1 1 0]\n",
      " [0 0 0 0 0 0]]\n",
      "[[0 0 0 0 0 0]\n",
      " [0 0 0 0 0 0]\n",
      " [0 0 0 0 0 0]\n",
      " [0 0 0 1 1 0]\n",
      " [0 0 0 1 1 0]\n",
      " [0 0 0 0 0 0]]\n",
      "[[0 0 0 0 0 0]\n",
      " [0 0 0 0 0 0]\n",
      " [0 0 0 0 0 0]\n",
      " [0 0 0 1 1 0]\n",
      " [0 0 0 1 1 0]\n",
      " [0 0 0 0 0 0]]\n"
     ]
    },
    {
     "data": {
      "image/png": "[encoded data removed]",
      "text/plain": [
       "<Figure size 432x288 with 10 Axes>"
      ]
     },
     "metadata": {
      "needs_background": "light"
     },
     "output_type": "display_data"
    }
   ],
   "source": [
    "z = [[0,0,0,0,0,0],[0,0,0,1,0,0],[0,1,0,1,0,0],[0,0,1,1,0,0],[0,0,0,0,0,0],[0,0,0,0,0,0]]\n",
    "tab = list()\n",
    "for i in range (0,10) :\n",
    "    print(np.matrix(z))  #affichage des tableaux explicitant les cellules vivantes ou mortes.\n",
    "    plt.subplot(2,5,i+1)  #afficher les figures côte à côte sur 2 lignes et 5 colonnes.\n",
    "    jeu = iteration_jeu(z)\n",
    "    tab.append(jeu)   #on place les itérations dans notre liste pour pouvoir l'afficher\n",
    "    plt.imshow(tab[i]) #affichage des figures\n",
    "    "
   ]
  },
  {
   "cell_type": "markdown",
   "metadata": {},
   "source": [
    "**Question 6** : Nous pouvons remarquer qu'entre l'itération 0 et l'itération 3, il y a des changements dans les tableaux paires et impaires. La figure des itérations paires réalise une symétrie axiale (d'axe : \\) puis un décalage d'une case vers la droite.Ou alors une rotation de 90° par rapport au centre du carré, puis une symétrie axiale d'axe vertiacale : |.De même pour la figure des itérations impaires. De plus, la différence entre la figure paire et impaire est le décalage d'un \"carré\" jaune située à droite de la figure paire et qui passe à gauche sur la figure des itérations impaires. Nous le remarquons par la valeur 1 placée à la 5ème colonne / 3ème ligne du tableau des itérations paires et qui repassent colonne 3 / ligne 4 dans le tableau des itérations impaires.\n",
    "\n",
    "Puis à l'itération 4, nous remarquons que la figure est transformé de la même façon que précédement (rotation de 90° puis symétrie verticale) mais que nous pouvons prendre la figure représentant aussi bien les itérations impaires que paires.\n",
    "\n",
    "Enfin, après l'itération 7, les sorties ne changent plus. Il y a toujours le même tableau soit `[[0, 0, 0, 0, 0, 0], [0, 0, 0, 0, 0, 0], [0, 0, 0, 1, 1, 0], [0, 0, 0, 1, 1, 0], [0, 0, 0, 0, 0, 0], [0, 0, 0, 0, 0, 0]`, nous donnant ainsi la même figure. "
   ]
  },
  {
   "cell_type": "markdown",
   "metadata": {},
   "source": [
    "**Question 7** : Etudions les valeurs ci-dessous."
   ]
  },
  {
   "cell_type": "code",
   "execution_count": 9,
   "metadata": {},
   "outputs": [
    {
     "name": "stdout",
     "output_type": "stream",
     "text": [
      "[0. 0. 1. 1. 1. 0.]\n"
     ]
    }
   ],
   "source": [
    "vect = np.array([0,1,0,0,1,1]) #vect est un tableau de taille 1*6 \n",
    "nb_vect = np.zeros(vect.shape) #un vecteur de meme taille que vect mais remplit de 0\n",
    "nb_vect[1:-1] += (vect[:-2] + vect[2:]) \n",
    "#remplace les valeurs numéro 1 à 4 du vecteur nb_vect par \n",
    "#la somme des valeurs des vecteurs vect[:-2] et vect[2:]\n",
    "#où vect[:-2] = [0,1,0,0] et vect[2:] = [0,0,1,1]\n",
    "print(nb_vect)"
   ]
  },
  {
   "cell_type": "markdown",
   "metadata": {},
   "source": [
    "**Question 8** : Nous allons appliquer cette méthode afin de créer une fonction calculant le nombre de voisins de chaque case du jeu."
   ]
  },
  {
   "cell_type": "code",
   "execution_count": 10,
   "metadata": {},
   "outputs": [
    {
     "name": "stdout",
     "output_type": "stream",
     "text": [
      "[[0. 0. 0. 0. 0. 0.]\n",
      " [0. 1. 3. 1. 2. 0.]\n",
      " [0. 1. 5. 3. 3. 0.]\n",
      " [0. 2. 3. 2. 2. 0.]\n",
      " [0. 0. 0. 0. 0. 0.]\n",
      " [0. 0. 0. 0. 0. 0.]]\n"
     ]
    }
   ],
   "source": [
    "def calcul_nb_voisins_np(z):\n",
    "    voisin = np.zeros(z.shape)  #on créée une matrice de même taille que z ne comprenant que des 0.\n",
    "    for i in range (1,4): #on compte le nombre de voisins de chaque case\n",
    "        for j in range (1,5) :\n",
    "            voisin [i][j:j+1] += z[i-1][j+1:j+2] + z[i][j+1:j+2]  + z[i+1][j+1:j+2] + z[i+1][j:j+1] + z[i+1][j-1:j] + z[i][j-1:j] + z[i-1][j-1:j] + z[i-1][j:j+1]\n",
    "    return (voisin)\n",
    "\n",
    "z = [[0,0,0,0,0,0],[0,0,0,1,0,0],[0,1,0,1,0,0],[0,0,1,1,0,0],[0,0,0,0,0,0],[0,0,0,0,0,0]]\n",
    "print(calcul_nb_voisins_np(np.array(z)))"
   ]
  },
  {
   "cell_type": "markdown",
   "metadata": {},
   "source": [
    "**Question 9** : Nous allons ensuite, créer une fonction qui permet de faire fonctionner le jeu plusieurs fois de suite. Anisi, il nous suffit d'appliquer les règles du jeu données en consigne, le nombre de tour voulu."
   ]
  },
  {
   "cell_type": "code",
   "execution_count": 11,
   "metadata": {},
   "outputs": [
    {
     "name": "stdout",
     "output_type": "stream",
     "text": [
      "[[0 0 0 0 0 0]\n",
      " [0 0 1 0 0 0]\n",
      " [0 0 0 1 1 0]\n",
      " [0 0 1 1 0 0]\n",
      " [0 0 0 0 0 0]\n",
      " [0 0 0 0 0 0]]\n"
     ]
    }
   ],
   "source": [
    "def iteration_jeu_np (tableau):\n",
    "    N = calcul_nb_voisins_np(tableau) #correspond au tableau comptabilisant le nombre de voisins de chaque case du jeu.\n",
    "    for x in range (1,5):\n",
    "        for y in range (1,5):\n",
    "            if tableau[x][y] == 1 and (N[x][y] < 2 or N[x][y] > 3): #on applique les règles Isolement et Etouffement\n",
    "                tableau[x][y] = 0\n",
    "            elif tableau[x][y] == 0 and N[x][y] == 3: #on applique la règle Naissance  \n",
    "                tableau[x][y] = 1\n",
    "    return(tableau)\n",
    "#la règle Equilibre est automatique. Elle ne change pas l'aspect (morte ou vivante) de la case.\n",
    "\n",
    "z = [[0,0,0,0,0,0],[0,0,0,1,0,0],[0,1,0,1,0,0],[0,0,1,1,0,0],[0,0,0,0,0,0],[0,0,0,0,0,0]]\n",
    "tableau = np.array(z)\n",
    "print(iteration_jeu_np(tableau))"
   ]
  },
  {
   "cell_type": "markdown",
   "metadata": {},
   "source": [
    "**Question 10** : Une fois que nous avons codé les différentes étapes du jeu pour une liste z connue, nous pouvons jouer. Ecrivons une fonction qui permet de jouer au jeu de la vie avec n'importe quelle liste en entrée et un nombre d'itérations choisi au moment de jouer."
   ]
  },
  {
   "cell_type": "code",
   "execution_count": 12,
   "metadata": {},
   "outputs": [
    {
     "name": "stdout",
     "output_type": "stream",
     "text": [
      "[[0 0 0 0 0 0]\n",
      " [0 0 0 0 0 0]\n",
      " [0 0 0 1 1 0]\n",
      " [0 0 0 1 1 0]\n",
      " [0 0 0 0 0 0]\n",
      " [0 0 0 0 0 0]]\n"
     ]
    }
   ],
   "source": [
    "def jeu_np (Z_in, nb_iter):\n",
    "    jeu_de_la_vie = np.zeros(Z_in.shape)  #prend la taille de Z_in\n",
    "    for i in range(nb_iter-1):             #applique le nombre d'itération voulu (démarre à 0 donc il faut mettre le -1)\n",
    "        jeu_de_la_vie = iteration_jeu_np(Z_in)  #déroule le jeu grâce aux fonctions précédentes\n",
    "    return(jeu_de_la_vie)\n",
    "\n",
    "#on choisit Z_in et nb_iter comme on le souhaite.\n",
    "Z_in = np.array([[0,0,0,0,0,0],[0,0,0,1,0,0],[0,1,0,1,0,0],[0,0,1,1,0,0],[0,0,0,0,0,0],[0,0,0,0,0,0]])\n",
    "nb_iter = 9\n",
    "print(jeu_np(Z_in,nb_iter)) #affiche la grille finale des cases vivantes et mortes au bout de nb_iter itérations."
   ]
  },
  {
   "cell_type": "markdown",
   "metadata": {},
   "source": [
    "**Question 11** : Il serait encore mieux de jouer, non plus avec des matrices mathématiques, mais de voir les itérations du jeu et d'obtenir notre damier final."
   ]
  },
  {
   "cell_type": "code",
   "execution_count": 13,
   "metadata": {},
   "outputs": [
    {
     "name": "stdout",
     "output_type": "stream",
     "text": [
      "[[0. 0. 0. 0. 0. 0. 0. 0. 0. 0. 0. 0. 0.]\n",
      " [0. 0. 0. 0. 0. 0. 0. 0. 0. 0. 0. 0. 0.]\n",
      " [0. 0. 0. 0. 0. 0. 0. 0. 0. 0. 0. 0. 0.]\n",
      " [0. 0. 0. 0. 0. 0. 0. 0. 0. 0. 0. 0. 0.]\n",
      " [0. 0. 0. 0. 0. 0. 0. 0. 0. 0. 0. 0. 0.]\n",
      " [0. 0. 0. 0. 0. 0. 0. 0. 0. 0. 0. 0. 0.]\n",
      " [0. 0. 0. 0. 0. 0. 0. 0. 1. 0. 0. 0. 0.]\n",
      " [0. 0. 0. 0. 0. 0. 1. 0. 1. 0. 0. 0. 0.]\n",
      " [0. 0. 0. 0. 0. 0. 0. 1. 1. 0. 0. 0. 0.]\n",
      " [0. 0. 0. 0. 0. 0. 0. 0. 0. 0. 0. 0. 0.]\n",
      " [0. 0. 0. 0. 0. 0. 0. 0. 0. 0. 0. 0. 0.]\n",
      " [0. 0. 0. 0. 0. 0. 0. 0. 0. 0. 0. 0. 0.]\n",
      " [0. 0. 0. 0. 0. 0. 0. 0. 0. 0. 0. 0. 0.]]\n"
     ]
    }
   ],
   "source": [
    "Z_huge = np.zeros((100,100)) #création de la matrice géante de base\n",
    "Z_np = np.array(\n",
    "[[0, 0, 0, 0, 0, 0],[0, 0, 0, 1, 0, 0], [0, 1, 0, 1, 0, 0], [0, 0, 1, 1, 0, 0], [0, 0, 0, 0, 0, 0], [0, 0, 0, 0, 0, 0]])\n",
    "Z_huge[10:16, 10:16] = Z_np \n",
    "#nous insérons la matrice de taille (6*6) dans la matrice géante \n",
    "#(matrice 6*6 que nous avons utiliser au questions précédentes)\n",
    "\n",
    "print(Z_huge[5:18,5:18]) #verification : Z_np bien insérée dans Z_huge"
   ]
  },
  {
   "cell_type": "code",
   "execution_count": 25,
   "metadata": {},
   "outputs": [],
   "source": [
    "fig = plt.figure() \n",
    "line, = plt.plot([],[])\n",
    "plt.xlim(0,99)\n",
    "plt.ylim(0,99)\n",
    "\n",
    "def init():\n",
    "    line.set_data([],[])\n",
    "    return line,\n",
    "\n",
    "def animate(i):\n",
    "    jeu = jeu_np(Z_huge,3)\n",
    "    line.set_data(jeu) \n",
    "    return line,\n",
    "    \n",
    "anim = animation.FuncAnimation(fig=fig, func=animate,init_func=init,frames=100, interval=20, blit=True)\n",
    "%matplotlib notebook"
   ]
  },
  {
   "cell_type": "markdown",
   "metadata": {},
   "source": [
    "**Question 12** : Nous allons créer une matrice aléatoire de taille 100x100 remplie de 1 et de 0 dont la proportion de 1 est égale à `(1 + ma_graine) * 10 / 100`."
   ]
  },
  {
   "cell_type": "code",
   "execution_count": 61,
   "metadata": {},
   "outputs": [
    {
     "name": "stdout",
     "output_type": "stream",
     "text": [
      "[[0. 1. 0. 0. 1. 0. 0. 0. 0. 0.]\n",
      " [1. 0. 1. 1. 0. 1. 0. 0. 1. 1.]\n",
      " [0. 0. 0. 0. 0. 0. 1. 0. 1. 0.]\n",
      " [0. 0. 1. 0. 1. 0. 1. 0. 0. 1.]\n",
      " [0. 0. 1. 0. 1. 0. 0. 1. 0. 0.]\n",
      " [0. 0. 0. 0. 0. 0. 0. 0. 0. 0.]\n",
      " [1. 0. 1. 0. 0. 0. 0. 1. 0. 0.]\n",
      " [1. 0. 0. 1. 0. 0. 0. 0. 0. 0.]\n",
      " [0. 0. 1. 0. 0. 0. 0. 0. 1. 1.]\n",
      " [1. 0. 0. 0. 0. 0. 0. 0. 0. 0.]]\n",
      "[[0. 1. 0. ... 0. 0. 0.]\n",
      " [0. 0. 0. ... 1. 0. 0.]\n",
      " [1. 0. 0. ... 1. 0. 0.]\n",
      " ...\n",
      " [1. 0. 0. ... 0. 0. 0.]\n",
      " [0. 0. 0. ... 0. 0. 0.]\n",
      " [0. 0. 0. ... 0. 0. 0.]]\n"
     ]
    }
   ],
   "source": [
    "Z_huge = np.zeros((100,100))  #initialisation de la matrice \n",
    "for j in range (99):\n",
    "    for i in range (99):\n",
    "        alea = random.random()  #donne un chiffre entre 0 et 1 de manière aléatoire\n",
    "        if alea <= (1+ma_graine)*10/100 :  #loi binomiale de parmaètre (1+ma_graine)*10/100\n",
    "            Z_huge[i,j] = 1\n",
    "\n",
    "print(Z_huge[10:20,10:20]) #pour vérifier sur une partie de la matrice\n",
    "print(Z_huge)"
   ]
  },
  {
   "cell_type": "markdown",
   "metadata": {},
   "source": [
    "Appliquons maintenant la question précédente à cette matrice."
   ]
  },
  {
   "cell_type": "code",
   "execution_count": 62,
   "metadata": {},
   "outputs": [],
   "source": [
    "anim = animation.FuncAnimation(fig=fig, func=animate,init_func=init,frames=100, interval=20, blit=True)\n",
    "%matplotlib notebook"
   ]
  },
  {
   "cell_type": "markdown",
   "metadata": {},
   "source": [
    "**Question 13** :"
   ]
  },
  {
   "cell_type": "markdown",
   "metadata": {},
   "source": [
    "**Question 14** : Nous allons reprendre les questions précédentes mais cette fois-ci, en utilisant une classe que l'on nommera \"JeuDeLaVie\"."
   ]
  },
  {
   "cell_type": "code",
   "execution_count": 81,
   "metadata": {},
   "outputs": [
    {
     "ename": "SyntaxError",
     "evalue": "invalid syntax (<ipython-input-81-6b76132d54e8>, line 8)",
     "output_type": "error",
     "traceback": [
      "\u001b[1;36m  File \u001b[1;32m\"<ipython-input-81-6b76132d54e8>\"\u001b[1;36m, line \u001b[1;32m8\u001b[0m\n\u001b[1;33m    average_life = np.zeros((n_1,n_2))\u001b[0m\n\u001b[1;37m               ^\u001b[0m\n\u001b[1;31mSyntaxError\u001b[0m\u001b[1;31m:\u001b[0m invalid syntax\n"
     ]
    }
   ],
   "source": [
    "class JeuDeLaVie :\n",
    "    n_1 = 6\n",
    "    n_2 = 6\n",
    "    init_state = np.ndarray(shape = (n_1,n_2))\n",
    "    (n_1, n_2) = init_state.shape \n",
    "    _time_T = 3\n",
    "    _historic_state = np.ndarray(shape = (n_1, n_2, _time_T + 1)\n",
    "    average_life = np.zeros((n_1,n_2))\n",
    "    \n",
    "    def __init__(self,init_state,_time_T):\n",
    "        self._historic_state[:, :, 0] = self.init_state\n",
    "        \n",
    "    def play(self,_time_T,_historic_state) :\n",
    "        for t in range (_time_T):\n",
    "            _historic_state[:, :, t] = jeu_np(init_state,t)\n",
    "        return(_historic_state)\n",
    "    \n",
    "    def affichage(self,n_1, n_2, _time_T, _historic_state) :\n",
    "        somme = 0\n",
    "        for i in range (n_1-1):\n",
    "            for j in range (n_2-1):\n",
    "                for t in range (_time_T):\n",
    "                    somme = _historic_state[i,j,t] + somme\n",
    "                average_life[i,j] = somme/_time_T\n",
    "        plt.plot(average_life)\n",
    "        plt.colorbar()\n",
    "\n",
    "z = [[0, 0, 0, 0, 0, 0], [0, 0, 0, 1, 0, 0], [0, 1, 0, 1, 0, 0], [0, 0, 1, 1, 0, 0], [0, 0, 0, 0, 0, 0], [0, 0, 0, 0, 0, 0]]        \n",
    "print(JeuDeLaVie(init_state=z,_time_T=3))"
   ]
  }
 ],
 "metadata": {
  "kernelspec": {
   "display_name": "Python 3",
   "language": "python",
   "name": "python3"
  },
  "language_info": {
   "codemirror_mode": {
    "name": "ipython",
    "version": 3
   },
   "file_extension": ".py",
   "mimetype": "text/x-python",
   "name": "python",
   "nbconvert_exporter": "python",
   "pygments_lexer": "ipython3",
   "version": "3.7.4"
  }
 },
 "nbformat": 4,
 "nbformat_minor": 2
}
